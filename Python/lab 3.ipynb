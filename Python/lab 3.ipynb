{
 "cells": [
  {
   "cell_type": "markdown",
   "metadata": {},
   "source": [
    "Write a function that accepts two arguments (length, start) to\n",
    "generate an array of a specific length filled with integer numbers\n",
    "increased by one from start."
   ]
  },
  {
   "cell_type": "code",
   "execution_count": 7,
   "metadata": {},
   "outputs": [
    {
     "name": "stdout",
     "output_type": "stream",
     "text": [
      "[5, 6, 7, 8, 9, 10, 11, 12, 13, 14]\n"
     ]
    }
   ],
   "source": [
    "def gen_array(length, start):\n",
    "    new_array = []\n",
    "    for i in range(length):\n",
    "        new_array.append(start + i)\n",
    "    return new_array\n",
    "    \n",
    "print(gen_array(10, 5))\n",
    "    \n",
    "      "
   ]
  },
  {
   "cell_type": "markdown",
   "metadata": {},
   "source": [
    "write a function that takes a number as an argument and if the\n",
    "number divisible by 3 return \"Fizz\" and if it is divisible by 5 return\n",
    "\"buzz\" and if is is divisible by both return \" FizzBuzz"
   ]
  },
  {
   "cell_type": "code",
   "execution_count": 8,
   "metadata": {},
   "outputs": [
    {
     "name": "stdout",
     "output_type": "stream",
     "text": [
      "FizzBuzz\n",
      "Fizz\n",
      "Buzz\n",
      "7\n"
     ]
    }
   ],
   "source": [
    "def fizz_buzz(number):\n",
    "    if number % 3 == 0 and number % 5 == 0:\n",
    "        return \"FizzBuzz\"\n",
    "    elif number % 3 == 0:\n",
    "        return \"Fizz\"\n",
    "    elif number % 5 == 0:\n",
    "        return \"Buzz\"\n",
    "    else:\n",
    "        return number\n",
    "\n",
    "print(fizz_buzz(15))  \n",
    "print(fizz_buzz(9))   \n",
    "print(fizz_buzz(10))  \n",
    "print(fizz_buzz(7))   "
   ]
  },
  {
   "cell_type": "markdown",
   "metadata": {},
   "source": [
    "Write a function which has an input of a string from user then it\n",
    "will return the same string reversed."
   ]
  },
  {
   "cell_type": "code",
   "execution_count": null,
   "metadata": {},
   "outputs": [
    {
     "name": "stdout",
     "output_type": "stream",
     "text": [
      "halladba\n"
     ]
    }
   ],
   "source": [
    "def reverse_string(string):\n",
    "    return string[::-1]\n",
    "\n",
    "strr=input(\"Enter a string: \")\n",
    "\n",
    "print(reverse_string(strr))"
   ]
  },
  {
   "cell_type": "markdown",
   "metadata": {},
   "source": [
    "Ask the user for his name then confirm that he has entered his\n",
    "name(not an empty string/integers). then proceed to ask him for\n",
    "his email and print all this data (Bonus) check if it is a valid email\n",
    "or not"
   ]
  },
  {
   "cell_type": "code",
   "execution_count": 35,
   "metadata": {},
   "outputs": [
    {
     "name": "stdout",
     "output_type": "stream",
     "text": [
      "Invalid email. Please enter a valid email.\n",
      "Invalid email. Please enter a valid email.\n",
      "Invalid email. Please enter a valid email.\n",
      "Invalid email. Please enter a valid email.\n",
      "Invalid email. Please enter a valid email.\n",
      "Name: as\n",
      "Email: abdallah@gmail.com\n"
     ]
    }
   ],
   "source": [
    "def user_info():\n",
    "    while True:\n",
    "        name = input(\"Enter your name: \")\n",
    "        if name == \"\" or name.isdigit():\n",
    "            print(\"Invalid name. Please enter a valid name.\")\n",
    "            continue\n",
    "        break\n",
    "\n",
    "    while True:\n",
    "        email = input(\"Enter your email: \")\n",
    "        valid_email = [\"@gmail.com\", \"@yahoo.com\", \"@hotmail.com\"]\n",
    "        for i in valid_email:\n",
    "            if i in email:\n",
    "                # print(f\"Name: {name}\")\n",
    "                # print(f\"Email: {email}\")\n",
    "                # return\n",
    "                break\n",
    "        else:\n",
    "            print(\"Invalid email. Please enter a valid email.\")\n",
    "            continue\n",
    "        \n",
    "        break\n",
    "    print(f\"Name: {name}\")\n",
    "    print(f\"Email: {email}\")\n",
    "    \n",
    "\n",
    "user_info()"
   ]
  },
  {
   "cell_type": "markdown",
   "metadata": {},
   "source": [
    "Write a function that takes a string and prints the\n",
    "longest alphabetical ordered substring occurred For example, if\n",
    "the string is ' abdulrahman ' then the output Longest substring in\n",
    "alphabetical order is: abdu\n"
   ]
  },
  {
   "cell_type": "code",
   "execution_count": 83,
   "metadata": {},
   "outputs": [
    {
     "name": "stdout",
     "output_type": "stream",
     "text": [
      "Longest substring in alphabetical order is: abcde\n"
     ]
    }
   ],
   "source": [
    "def LAS(s):\n",
    "    \n",
    "    substring = \"\"\n",
    "    max_substring = \"\"\n",
    "    \n",
    "\n",
    "    for i in range(len(s)):\n",
    "        if i==0 or s[i] >= s[i - 1]:\n",
    "            substring += s[i]\n",
    "            if len(substring) > len(max_substring):\n",
    "                max_substring = substring\n",
    "        else:\n",
    "            substring = s[i]\n",
    "\n",
    "    print(f\"Longest substring in alphabetical order is: {max_substring}\")\n",
    "\n",
    "LAS('abdulrahmanabcde')"
   ]
  },
  {
   "cell_type": "markdown",
   "metadata": {},
   "source": [
    "Write a program which repeatedly reads numbers until the user\n",
    "enters “done”.\n",
    "○\n",
    "Once “done” is entered, print out the total, count, and\n",
    "average of the numbers.\n",
    "○\n",
    "If the user enters anything other than a number, detect their\n",
    "mistake, print an error message and skip to the next number."
   ]
  },
  {
   "cell_type": "code",
   "execution_count": 72,
   "metadata": {},
   "outputs": [
    {
     "name": "stdout",
     "output_type": "stream",
     "text": [
      "Total: 2, Count: 1, Average: 2.0\n",
      "Total: 5, Count: 2, Average: 2.5\n",
      "Total: 8, Count: 3, Average: 2.6666666666666665\n",
      "Total: 12, Count: 4, Average: 3.0\n",
      "Total: 15, Count: 5, Average: 3.0\n"
     ]
    }
   ],
   "source": [
    "def read_numbers():\n",
    "    total = 0\n",
    "    count = 0\n",
    "    while True:\n",
    "        user_input = input(\"Enter a number (or 'done' to finish): \")\n",
    "        if user_input.lower() == 'done':\n",
    "            break\n",
    "        if user_input.isdigit():\n",
    "            number = int(user_input)\n",
    "            total += number\n",
    "            count += 1\n",
    "        else:\n",
    "            print(\"Invalid input. Please enter a number.\")\n",
    "            continue\n",
    "    \n",
    "        average = total / count\n",
    "        print(f\"Total: {total}, Count: {count}, Average: {average}\")\n",
    "\n",
    "\n",
    "read_numbers()"
   ]
  },
  {
   "cell_type": "markdown",
   "metadata": {},
   "source": [
    "Word guessing game (hangman)\n",
    "○\n",
    "A list of words will be hardcoded in your program, out of\n",
    "which the interpreter will\n",
    "○\n",
    "choose 1 random word.\n",
    "○\n",
    "The user first must input their names\n",
    "○\n",
    "Ask the user to guess any alphabet. If the random word\n",
    "contains that alphabet, it\n",
    "○\n",
    "will be shown as the output(with correct placement)\n",
    "○\n",
    "Else the program will ask you to guess another alphabet.\n",
    "○\n",
    "Give 7 turns maximum to guess the complete word."
   ]
  },
  {
   "cell_type": "code",
   "execution_count": 1,
   "metadata": {},
   "outputs": [
    {
     "name": "stdout",
     "output_type": "stream",
     "text": [
      "Hello d, let's play !\n",
      "You have 7 Guesses left\n",
      "___h__\n",
      "You have 6 Guesses left\n",
      "p__h__\n",
      "You have 5 Guesses left\n",
      "py_h__\n",
      "You have 4 Guesses left\n",
      "py_ho_\n",
      "You have 3 Guesses left\n",
      "py_hon\n",
      "You have 2 Guesses left\n",
      "python\n",
      "Congratulations d! You guessed the word\n"
     ]
    }
   ],
   "source": [
    "words = {\"python\", \"hi\", \"hello\"}\n",
    "word = words.pop().lower()\n",
    "\n",
    "name = input(\"Enter your name: \")\n",
    "print(f\"Hello {name}, let's play !\")\n",
    "\n",
    "guessed_word =['_'] * len(word)\n",
    "\n",
    "New_word =\"\"\n",
    "count=7\n",
    "i = 0\n",
    "while i <  7:\n",
    "    letter = input(\"Enter a letter: \").lower()\n",
    "    print(f\"You have {count-i} Guesses left\")\n",
    "    if letter in word:\n",
    "        if letter in guessed_word:\n",
    "            i_guessed_word = guessed_word.index(letter)\n",
    "            i_word = word.index(letter, i_guessed_word+1)\n",
    "        else:\n",
    "            i_word = word.index(letter)\n",
    "        guessed_word[i_word] = letter\n",
    "        New_word = \"\".join(guessed_word)\n",
    "        print(New_word)\n",
    "    else:\n",
    "        print(\"Guess another letter!\")\n",
    "\n",
    "    if New_word == word:\n",
    "        print(f\"Congratulations {name}! You guessed the word\")\n",
    "        break\n",
    "    i +=1"
   ]
  }
 ],
 "metadata": {
  "kernelspec": {
   "display_name": "Python 3",
   "language": "python",
   "name": "python3"
  },
  "language_info": {
   "codemirror_mode": {
    "name": "ipython",
    "version": 3
   },
   "file_extension": ".py",
   "mimetype": "text/x-python",
   "name": "python",
   "nbconvert_exporter": "python",
   "pygments_lexer": "ipython3",
   "version": "3.12.2"
  }
 },
 "nbformat": 4,
 "nbformat_minor": 2
}

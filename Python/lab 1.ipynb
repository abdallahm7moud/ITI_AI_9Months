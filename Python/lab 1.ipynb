{
 "cells": [
  {
   "cell_type": "markdown",
   "metadata": {},
   "source": [
    "1- Write a program that takes a string input from the\n",
    "user and prints the string in reverse order. Hint use\n",
    "while loop and string concat. Don’t use str[::-1]\n"
   ]
  },
  {
   "cell_type": "code",
   "execution_count": 7,
   "metadata": {},
   "outputs": [
    {
     "name": "stdout",
     "output_type": "stream",
     "text": [
      "Reversed String: halladba\n"
     ]
    }
   ],
   "source": [
    "s = input(\"Enter String: \")\n",
    "if s.isalpha():\n",
    "    reversed_string = \"\"\n",
    "    index = len(s) - 1\n",
    "\n",
    "    while index >= 0:\n",
    "        reversed_string += s[index]\n",
    "        index -= 1\n",
    "\n",
    "    print(\"Reversed String:\", reversed_string)\n",
    "else:\n",
    "    print(\"Enter only alphabets\")\n"
   ]
  },
  {
   "cell_type": "markdown",
   "metadata": {},
   "source": [
    "2- Create a program that counts the number of vowels\n",
    "and consonants in a given string.\n",
    "Hint: vowels are ‘aeiou’ , Use the in operator and while\n",
    "loop\n"
   ]
  },
  {
   "cell_type": "code",
   "execution_count": 8,
   "metadata": {},
   "outputs": [
    {
     "name": "stdout",
     "output_type": "stream",
     "text": [
      "Number of vowels: 3\n",
      "Number of consonants: 5\n"
     ]
    }
   ],
   "source": [
    "s = input(\"Enter String: \")\n",
    "if s.isalpha():\n",
    "    vowels = \"aeiou\"\n",
    "    vowel_count = 0\n",
    "    consonant_count = 0\n",
    "    index = 0\n",
    "\n",
    "    while index < len(s):\n",
    "        if s[index].lower() in vowels:\n",
    "            vowel_count += 1\n",
    "        elif s[index].isalpha():\n",
    "            consonant_count += 1\n",
    "        index += 1\n",
    "\n",
    "    print(\"Number of vowels:\", vowel_count)\n",
    "    print(\"Number of consonants:\", consonant_count)\n",
    "\n",
    "else:\n",
    "    print(\"Enter only alphabets\")"
   ]
  },
  {
   "cell_type": "markdown",
   "metadata": {},
   "source": [
    "3- Build a program that asks the user for a string\n",
    "and a number, then prints the string repeated that\n",
    "number of times [using while loop]."
   ]
  },
  {
   "cell_type": "code",
   "execution_count": 9,
   "metadata": {},
   "outputs": [
    {
     "name": "stdout",
     "output_type": "stream",
     "text": [
      "abdallah\n",
      "abdallah\n",
      "abdallah\n",
      "abdallah\n",
      "abdallah\n"
     ]
    }
   ],
   "source": [
    "s = input(\"Enter String: \")\n",
    "n=input(\"Enter number: \")\n",
    "if n.isdigit():\n",
    "    index = 0\n",
    "    while index < int(n):\n",
    "        print(s)\n",
    "        index += 1\n",
    "else:\n",
    "    print(\"Enter only digits\")"
   ]
  },
  {
   "cell_type": "markdown",
   "metadata": {},
   "source": [
    "4-Create a program that takes a string and\n",
    "capitalizes the first letter of each word. Using while\n",
    "loops and without using title"
   ]
  },
  {
   "cell_type": "code",
   "execution_count": 31,
   "metadata": {},
   "outputs": [
    {
     "name": "stdout",
     "output_type": "stream",
     "text": [
      "Capitalized String: Abdallah Mahmoud\n"
     ]
    }
   ],
   "source": [
    "s = input(\"Enter String: \")\n",
    "index = 0\n",
    "result = \"\"\n",
    "\n",
    "while index < len(s):\n",
    "    if index == 0 or s[index - 1] == \" \":\n",
    "        result += s[index].upper()\n",
    "    else:\n",
    "        result += s[index]\n",
    "    index += 1\n",
    "\n",
    "print(\"Capitalized String:\", result)"
   ]
  },
  {
   "cell_type": "markdown",
   "metadata": {},
   "source": [
    "5- Write a program that prints only the even\n",
    "numbers from 0 to 120 using while loop."
   ]
  },
  {
   "cell_type": "code",
   "execution_count": 13,
   "metadata": {},
   "outputs": [
    {
     "name": "stdout",
     "output_type": "stream",
     "text": [
      "0\n",
      "2\n",
      "4\n",
      "6\n",
      "8\n",
      "10\n",
      "12\n",
      "14\n",
      "16\n",
      "18\n",
      "20\n",
      "22\n",
      "24\n",
      "26\n",
      "28\n",
      "30\n",
      "32\n",
      "34\n",
      "36\n",
      "38\n",
      "40\n",
      "42\n",
      "44\n",
      "46\n",
      "48\n",
      "50\n",
      "52\n",
      "54\n",
      "56\n",
      "58\n",
      "60\n",
      "62\n",
      "64\n",
      "66\n",
      "68\n",
      "70\n",
      "72\n",
      "74\n",
      "76\n",
      "78\n",
      "80\n",
      "82\n",
      "84\n",
      "86\n",
      "88\n",
      "90\n",
      "92\n",
      "94\n",
      "96\n",
      "98\n",
      "100\n",
      "102\n",
      "104\n",
      "106\n",
      "108\n",
      "110\n",
      "112\n",
      "114\n",
      "116\n",
      "118\n",
      "120\n"
     ]
    }
   ],
   "source": [
    "num=input(\"Enter number: \")\n",
    "if num.isdigit():\n",
    "    i=0\n",
    "    while i<=int(num):\n",
    "        if i%2==0:\n",
    "            print(i)\n",
    "        i+=1\n",
    "else:\n",
    "    print(\"Enter only numbers\")"
   ]
  },
  {
   "cell_type": "markdown",
   "metadata": {},
   "source": [
    "7- Use a while loop to find and print the sum of all\n",
    "even numbers up to a user-specified limit."
   ]
  },
  {
   "cell_type": "code",
   "execution_count": 14,
   "metadata": {},
   "outputs": [
    {
     "name": "stdout",
     "output_type": "stream",
     "text": [
      "Sum of even numbers: 3660\n"
     ]
    }
   ],
   "source": [
    "num=input(\"Enter number: \")\n",
    "if num.isdigit():\n",
    "    i=0\n",
    "    sum=0\n",
    "    while i<=int(num):\n",
    "        if i%2==0:\n",
    "            sum +=i\n",
    "        i+=1\n",
    "        \n",
    "    print(\"Sum of even numbers:\",sum)\n",
    "else:\n",
    "    print(\"Enter only numbers\")"
   ]
  },
  {
   "cell_type": "markdown",
   "metadata": {},
   "source": [
    "8- Create a program that takes any positive integer\n",
    "n as input and prints the sequence according to the\n",
    "until n becomes 1.\n",
    "Hint given 5 → output 5, 4, 3,2,1\n",
    "Hint: print them in one string"
   ]
  },
  {
   "cell_type": "code",
   "execution_count": 15,
   "metadata": {},
   "outputs": [
    {
     "name": "stdout",
     "output_type": "stream",
     "text": [
      "Sequence: 5,4,3,2,1\n"
     ]
    }
   ],
   "source": [
    "num = input(\"Enter number: \")\n",
    "if num.isdigit() and int(num) > 0:\n",
    "    i = int(num)\n",
    "    sequence = \"\"\n",
    "    while i > 0:\n",
    "        sequence += str(i) + \",\"\n",
    "        i -= 1\n",
    "    print(\"Sequence:\", sequence.strip(\",\"))\n",
    "else:\n",
    "    print(\"Enter only numbers\")"
   ]
  },
  {
   "cell_type": "markdown",
   "metadata": {},
   "source": [
    "9- Create a program that asks for user input\n",
    "repeatedly until they enter a valid positive integer\n",
    "then print it."
   ]
  },
  {
   "cell_type": "code",
   "execution_count": 16,
   "metadata": {},
   "outputs": [
    {
     "name": "stdout",
     "output_type": "stream",
     "text": [
      "Valid number is:  4\n"
     ]
    }
   ],
   "source": [
    "while True:\n",
    "    num=input(\"Enter number: \")\n",
    "    if num.isdigit() and int(num) > 0:\n",
    "        break\n",
    "print(\"Valid number is: \",num)"
   ]
  },
  {
   "cell_type": "markdown",
   "metadata": {},
   "source": [
    "10- Write a program to calculate the factorial of a\n",
    "given number using a while loop.\n",
    "Given 5 —> output 120"
   ]
  },
  {
   "cell_type": "code",
   "execution_count": 17,
   "metadata": {},
   "outputs": [
    {
     "name": "stdout",
     "output_type": "stream",
     "text": [
      "Factorial: 120\n"
     ]
    }
   ],
   "source": [
    "num = input(\"Enter number: \")\n",
    "if num.isdigit() and int(num) > 0:\n",
    "    num = int(num)\n",
    "    factorial = 1\n",
    "    while num > 1:\n",
    "        factorial *= num\n",
    "        num -= 1\n",
    "    print(\"Factorial:\", factorial)\n",
    "else:\n",
    "    print(\"Enter a valid positive integer\")"
   ]
  },
  {
   "cell_type": "markdown",
   "metadata": {},
   "source": [
    "11- Use a while loop to reverse the digits of an\n",
    "integer provided by the user. For example, if the user\n",
    "enters 1234, the output should be 4321."
   ]
  },
  {
   "cell_type": "code",
   "execution_count": 18,
   "metadata": {},
   "outputs": [
    {
     "name": "stdout",
     "output_type": "stream",
     "text": [
      "Reversed Number: 4321\n"
     ]
    }
   ],
   "source": [
    "num = input(\"Enter number: \")\n",
    "if num.isdigit():\n",
    "    reversed_num = \"\"\n",
    "    index = len(num) - 1\n",
    "\n",
    "    while index >= 0:\n",
    "        reversed_num += num[index]\n",
    "        index -= 1\n",
    "\n",
    "    print(\"Reversed Number:\", reversed_num)\n",
    "else:\n",
    "    print(\"Enter only numbers\")"
   ]
  },
  {
   "cell_type": "markdown",
   "metadata": {},
   "source": [
    "12- Write a program that keeps asking the user to\n",
    "enter a password until they enter the correct one print\n",
    "success. Use a while loop to keep prompting the\n",
    "user."
   ]
  },
  {
   "cell_type": "code",
   "execution_count": 5,
   "metadata": {},
   "outputs": [
    {
     "name": "stdout",
     "output_type": "stream",
     "text": [
      "Incorrect password, try again.\n",
      "Success\n"
     ]
    }
   ],
   "source": [
    "correct_password = \"12345678\"  \n",
    "while True:\n",
    "    password = input(\"Enter password: \")\n",
    "    if password == correct_password:\n",
    "        print(\"Success\")\n",
    "        break\n",
    "    else:\n",
    "        print(\"Incorrect password, try again.\")"
   ]
  },
  {
   "cell_type": "markdown",
   "metadata": {},
   "source": [
    "13- Write a program that takes a number from the user\n",
    "and applies the Collatz Conjecture rules:\n",
    "● If the number is even, divide it by 2.\n",
    "● If the number is odd, multiply it by 3 and add 1.\n",
    "Continue until the number becomes 1."
   ]
  },
  {
   "cell_type": "code",
   "execution_count": 6,
   "metadata": {},
   "outputs": [
    {
     "name": "stdout",
     "output_type": "stream",
     "text": [
      "48\n",
      "24\n",
      "12\n",
      "6\n",
      "3\n",
      "10\n",
      "5\n",
      "16\n",
      "8\n",
      "4\n",
      "2\n",
      "1\n"
     ]
    }
   ],
   "source": [
    "num = input(\"Enter a number: \")\n",
    "if num.isdigit() and int(num) > 0:\n",
    "    num = int(num)\n",
    "    while num != 1:\n",
    "        print(num)\n",
    "        if num % 2 == 0:\n",
    "            num = num // 2\n",
    "        else:\n",
    "            num = num * 3 + 1\n",
    "    print(num)\n",
    "else:\n",
    "    print(\"Enter a valid positive integer\")"
   ]
  }
 ],
 "metadata": {
  "kernelspec": {
   "display_name": "Python 3",
   "language": "python",
   "name": "python3"
  },
  "language_info": {
   "codemirror_mode": {
    "name": "ipython",
    "version": 3
   },
   "file_extension": ".py",
   "mimetype": "text/x-python",
   "name": "python",
   "nbconvert_exporter": "python",
   "pygments_lexer": "ipython3",
   "version": "3.12.2"
  }
 },
 "nbformat": 4,
 "nbformat_minor": 2
}
